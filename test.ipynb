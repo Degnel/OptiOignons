{
 "cells": [
  {
   "cell_type": "code",
   "execution_count": null,
   "id": "3ea6585f",
   "metadata": {},
   "outputs": [
    {
     "name": "stdout",
     "output_type": "stream",
     "text": [
      "tensor([0.0010, 0.0098, 0.0439, 0.1172, 0.2051, 0.2461, 0.2051, 0.1172, 0.0439,\n",
      "        0.0098, 0.0010])\n"
     ]
    }
   ],
   "source": [
    "import torch\n",
    "\n",
    "# Paramètres\n",
    "n = 10\n",
    "mu = 5\n",
    "p = mu / n\n",
    "\n",
    "binom = torch.distributions.Binomial(total_count=n, probs=p)\n",
    "k = torch.arange(n + 1)\n",
    "pmf = torch.exp(binom.log_prob(k))\n",
    "print(pmf)"
   ]
  },
  {
   "cell_type": "code",
   "execution_count": 4,
   "id": "042bebe5",
   "metadata": {},
   "outputs": [
    {
     "data": {
      "text/plain": [
       "True"
      ]
     },
     "execution_count": 4,
     "metadata": {},
     "output_type": "execute_result"
    }
   ],
   "source": [
    "3 >= 2 or 3 < 4"
   ]
  }
 ],
 "metadata": {
  "kernelspec": {
   "display_name": ".venv",
   "language": "python",
   "name": "python3"
  },
  "language_info": {
   "codemirror_mode": {
    "name": "ipython",
    "version": 3
   },
   "file_extension": ".py",
   "mimetype": "text/x-python",
   "name": "python",
   "nbconvert_exporter": "python",
   "pygments_lexer": "ipython3",
   "version": "3.11.12"
  }
 },
 "nbformat": 4,
 "nbformat_minor": 5
}
